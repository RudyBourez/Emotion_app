{
 "cells": [
  {
   "cell_type": "code",
   "execution_count": 27,
   "metadata": {},
   "outputs": [],
   "source": [
    "import fasttext as ft\n",
    "import pandas as pd"
   ]
  },
  {
   "cell_type": "code",
   "execution_count": 28,
   "metadata": {},
   "outputs": [],
   "source": [
    "dfe = pd.read_csv(\"../Data/Data_cleaned/emotion_cleaned_rudy.csv\")\n",
    "dfa = pd.read_csv(\"../Data/Data_cleaned/augmentation_cleaned_rudy.csv\")"
   ]
  },
  {
   "cell_type": "markdown",
   "metadata": {},
   "source": [
    "## Emotions"
   ]
  },
  {
   "cell_type": "markdown",
   "metadata": {},
   "source": [
    "### Spliting"
   ]
  },
  {
   "cell_type": "code",
   "execution_count": 29,
   "metadata": {},
   "outputs": [],
   "source": [
    "from sklearn.model_selection import train_test_split"
   ]
  },
  {
   "cell_type": "code",
   "execution_count": 104,
   "metadata": {},
   "outputs": [],
   "source": [
    "X_train, X_test, y_train, y_test = train_test_split(dfe[\"clean_text\"], dfe[\"target\"], test_size=0.3, stratify=dfe[\"target\"], random_state=1)"
   ]
  },
  {
   "cell_type": "markdown",
   "metadata": {},
   "source": [
    "### Transformation au format txt pour fasttext"
   ]
  },
  {
   "cell_type": "code",
   "execution_count": 105,
   "metadata": {},
   "outputs": [],
   "source": [
    "dfe_train_text = pd.DataFrame()\n",
    "dfe_test_text = pd.DataFrame()"
   ]
  },
  {
   "cell_type": "code",
   "execution_count": 106,
   "metadata": {},
   "outputs": [],
   "source": [
    "dfe_train_text[\"text\"] = y_train.apply(lambda x : \"__label__\" + x) +\" \"+ X_train\n",
    "dfe_test_text[\"text\"] = y_test.apply(lambda x : \"__label__\" + x) +\" \"+ X_test"
   ]
  },
  {
   "cell_type": "code",
   "execution_count": 107,
   "metadata": {},
   "outputs": [],
   "source": [
    "import csv"
   ]
  },
  {
   "cell_type": "code",
   "execution_count": 108,
   "metadata": {},
   "outputs": [],
   "source": [
    "dfe_train_text.to_csv(\"../Data/Data_fasttext/train_rudy.txt\", index=False, header=None, sep=\" \",quoting = csv.QUOTE_NONE, quotechar = \"\", escapechar = \" \", na_rep=\" \")\n",
    "dfe_test_text.to_csv(\"../Data/Data_fasttext/test_rudy.txt\", index=False, header=None, sep=\" \",quoting = csv.QUOTE_NONE, quotechar = \"\", escapechar = \" \", na_rep=\" \")"
   ]
  },
  {
   "cell_type": "code",
   "execution_count": 113,
   "metadata": {},
   "outputs": [],
   "source": [
    "model = ft.train_supervised(\n",
    "    '../Data/Data_fasttext/train_rudy.txt',\n",
    "    lr=0.3,\n",
    "    epoch=20,\n",
    "    dim=100,\n",
    "    bucket=3000000\n",
    "    )"
   ]
  },
  {
   "cell_type": "code",
   "execution_count": 114,
   "metadata": {},
   "outputs": [
    {
     "name": "stdout",
     "output_type": "stream",
     "text": [
      "Test score: (6438, 0.8704566635601119, 0.8704566635601119)\n",
      "Train score: (15020, 0.9976031957390147, 0.9976031957390147)\n"
     ]
    }
   ],
   "source": [
    "print(\"Test score:\", model.test('../Data/Data_fasttext/test_rudy.txt'))\n",
    "print(\"Train score:\", model.test('../Data/Data_fasttext/train_rudy.txt'))"
   ]
  },
  {
   "cell_type": "code",
   "execution_count": null,
   "metadata": {},
   "outputs": [],
   "source": []
  }
 ],
 "metadata": {
  "interpreter": {
   "hash": "e8e72ecd218193d245fb3b010d45ad55dac7ff54b5052aa4883c6a911d9d65f6"
  },
  "kernelspec": {
   "display_name": "Python 3.9.7 ('rb_ds')",
   "language": "python",
   "name": "python3"
  },
  "language_info": {
   "codemirror_mode": {
    "name": "ipython",
    "version": 3
   },
   "file_extension": ".py",
   "mimetype": "text/x-python",
   "name": "python",
   "nbconvert_exporter": "python",
   "pygments_lexer": "ipython3",
   "version": "3.9.7"
  },
  "orig_nbformat": 4
 },
 "nbformat": 4,
 "nbformat_minor": 2
}
