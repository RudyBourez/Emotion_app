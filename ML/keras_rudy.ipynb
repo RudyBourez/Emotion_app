{
 "cells": [
  {
   "cell_type": "code",
   "execution_count": 29,
   "metadata": {},
   "outputs": [],
   "source": [
    "import pandas as pd\n",
    "from tensorflow import keras\n",
    "from sklearn.model_selection import train_test_split\n",
    "from sklearn.preprocessing import LabelEncoder"
   ]
  },
  {
   "cell_type": "code",
   "execution_count": 26,
   "metadata": {},
   "outputs": [],
   "source": [
    "dfe = pd.read_csv(\"../Data/Data_cleaned/emotion_cleaned_rudy.csv\")[[\"target\", \"clean_text\"]].dropna()"
   ]
  },
  {
   "cell_type": "code",
   "execution_count": 32,
   "metadata": {},
   "outputs": [],
   "source": [
    "encoder = LabelEncoder()\n",
    "dfe[\"cible\"] = encoder.fit_transform(dfe[\"target\"])"
   ]
  },
  {
   "cell_type": "markdown",
   "metadata": {},
   "source": [
    "## Spliting des données"
   ]
  },
  {
   "cell_type": "code",
   "execution_count": 34,
   "metadata": {},
   "outputs": [],
   "source": [
    "X_train, X_test, y_train, y_test = train_test_split(dfe[\"clean_text\"], dfe[\"cible\"], train_size=0.8, random_state=1, stratify=dfe[\"target\"])\n",
    "X_train, X_val, y_train, y_val = train_test_split(X_train, y_train, train_size=0.5, stratify=y_train)"
   ]
  },
  {
   "cell_type": "markdown",
   "metadata": {},
   "source": [
    "## Vectorisation"
   ]
  },
  {
   "cell_type": "code",
   "execution_count": 55,
   "metadata": {},
   "outputs": [],
   "source": [
    "from sklearn.feature_extraction.text import CountVectorizer, TfidfVectorizer, HashingVectorizer"
   ]
  },
  {
   "cell_type": "code",
   "execution_count": 64,
   "metadata": {},
   "outputs": [
    {
     "data": {
      "text/plain": [
       "CountVectorizer()"
      ]
     },
     "execution_count": 64,
     "metadata": {},
     "output_type": "execute_result"
    }
   ],
   "source": [
    "vectorizer =CountVectorizer()\n",
    "vectorizer.fit(X_train)"
   ]
  },
  {
   "cell_type": "code",
   "execution_count": 65,
   "metadata": {},
   "outputs": [],
   "source": [
    "X_train_t = vectorizer.transform(X_train)\n",
    "X_test_t = vectorizer.transform(X_test)\n",
    "X_val_t = vectorizer.transform(X_val)"
   ]
  },
  {
   "cell_type": "markdown",
   "metadata": {},
   "source": [
    "## Neural Network"
   ]
  },
  {
   "cell_type": "code",
   "execution_count": 75,
   "metadata": {},
   "outputs": [],
   "source": [
    "model = keras.Sequential()\n",
    "\n",
    "initializer = keras.initializers.HeNormal()\n",
    "\n",
    "model.add(keras.layers.Dense(20, input_dim=X_train_t.shape[1],kernel_initializer=initializer, activation=\"relu\"))\n",
    "model.add(keras.layers.BatchNormalization())\n",
    "model.add(keras.layers.AlphaDropout(5))\n",
    "model.add(keras.layers.Dense(6, activation=\"softmax\"))"
   ]
  },
  {
   "cell_type": "code",
   "execution_count": 76,
   "metadata": {},
   "outputs": [],
   "source": [
    "model.compile(\n",
    "    loss= keras.losses.SparseCategoricalCrossentropy(),\n",
    "    optimizer= keras.optimizers.Adam(learning_rate=0.0001),\n",
    "    metrics=[\"accuracy\"]\n",
    ")"
   ]
  },
  {
   "cell_type": "code",
   "execution_count": 77,
   "metadata": {},
   "outputs": [
    {
     "name": "stdout",
     "output_type": "stream",
     "text": [
      "Epoch 1/100\n",
      "1073/1073 [==============================] - 5s 4ms/step - loss: 1.7130 - accuracy: 0.3171 - val_loss: 1.4312 - val_accuracy: 0.4961\n",
      "Epoch 2/100\n",
      "1073/1073 [==============================] - 4s 4ms/step - loss: 1.0893 - accuracy: 0.6683 - val_loss: 0.9616 - val_accuracy: 0.7095\n",
      "Epoch 3/100\n",
      "1073/1073 [==============================] - 4s 4ms/step - loss: 0.6515 - accuracy: 0.8342 - val_loss: 0.6888 - val_accuracy: 0.7931\n",
      "Epoch 4/100\n",
      "1073/1073 [==============================] - 4s 4ms/step - loss: 0.3977 - accuracy: 0.9144 - val_loss: 0.5553 - val_accuracy: 0.8290\n",
      "Epoch 5/100\n",
      "1073/1073 [==============================] - 4s 4ms/step - loss: 0.2617 - accuracy: 0.9473 - val_loss: 0.4901 - val_accuracy: 0.8442\n",
      "Epoch 6/100\n",
      "1073/1073 [==============================] - 4s 4ms/step - loss: 0.1871 - accuracy: 0.9619 - val_loss: 0.4583 - val_accuracy: 0.8510\n",
      "Epoch 7/100\n",
      "1073/1073 [==============================] - 4s 4ms/step - loss: 0.1412 - accuracy: 0.9711 - val_loss: 0.4427 - val_accuracy: 0.8559\n",
      "Epoch 8/100\n",
      "1073/1073 [==============================] - 4s 4ms/step - loss: 0.1083 - accuracy: 0.9787 - val_loss: 0.4395 - val_accuracy: 0.8612\n",
      "Epoch 9/100\n",
      "1073/1073 [==============================] - 4s 4ms/step - loss: 0.0907 - accuracy: 0.9803 - val_loss: 0.4496 - val_accuracy: 0.8568\n",
      "Epoch 10/100\n",
      "1073/1073 [==============================] - 4s 4ms/step - loss: 0.0826 - accuracy: 0.9816 - val_loss: 0.4564 - val_accuracy: 0.8551\n",
      "Epoch 11/100\n",
      "1073/1073 [==============================] - 4s 4ms/step - loss: 0.0663 - accuracy: 0.9860 - val_loss: 0.4636 - val_accuracy: 0.8553\n"
     ]
    }
   ],
   "source": [
    "history = model.fit(\n",
    "    X_train_t.toarray(),\n",
    "    y_train,\n",
    "    epochs=100,\n",
    "    callbacks=keras.callbacks.EarlyStopping(patience=3, monitor=\"val_loss\"),\n",
    "    batch_size=8,\n",
    "    validation_data=(X_val_t.toarray(), y_val)\n",
    ")"
   ]
  },
  {
   "cell_type": "code",
   "execution_count": 79,
   "metadata": {},
   "outputs": [
    {
     "name": "stdout",
     "output_type": "stream",
     "text": [
      "135/135 [==============================] - 1s 3ms/step - loss: 0.4620 - accuracy: 0.8572\n"
     ]
    },
    {
     "data": {
      "text/plain": [
       "[0.46197882294654846, 0.8571761250495911]"
      ]
     },
     "execution_count": 79,
     "metadata": {},
     "output_type": "execute_result"
    }
   ],
   "source": [
    "model.evaluate(X_test_t.toarray(), y_test)"
   ]
  },
  {
   "cell_type": "code",
   "execution_count": null,
   "metadata": {},
   "outputs": [],
   "source": []
  }
 ],
 "metadata": {
  "interpreter": {
   "hash": "e8e72ecd218193d245fb3b010d45ad55dac7ff54b5052aa4883c6a911d9d65f6"
  },
  "kernelspec": {
   "display_name": "Python 3.9.7 ('rb_ds')",
   "language": "python",
   "name": "python3"
  },
  "language_info": {
   "codemirror_mode": {
    "name": "ipython",
    "version": 3
   },
   "file_extension": ".py",
   "mimetype": "text/x-python",
   "name": "python",
   "nbconvert_exporter": "python",
   "pygments_lexer": "ipython3",
   "version": "3.9.7"
  },
  "orig_nbformat": 4
 },
 "nbformat": 4,
 "nbformat_minor": 2
}
