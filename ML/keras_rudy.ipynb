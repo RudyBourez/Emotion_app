{
 "cells": [
  {
   "cell_type": "code",
   "execution_count": 224,
   "metadata": {},
   "outputs": [],
   "source": [
    "import pandas as pd\n",
    "from tensorflow import keras\n",
    "import tensorflow as tf\n",
    "from sklearn.model_selection import train_test_split\n",
    "from sklearn.preprocessing import LabelEncoder"
   ]
  },
  {
   "cell_type": "code",
   "execution_count": 225,
   "metadata": {},
   "outputs": [],
   "source": [
    "dfe = pd.read_csv(\"../Data/Data_cleaned/emotion_cleaned_rudy.csv\")[[\"target\", \"clean_text\"]].dropna()"
   ]
  },
  {
   "cell_type": "code",
   "execution_count": 226,
   "metadata": {},
   "outputs": [],
   "source": [
    "encoder = LabelEncoder()\n",
    "dfe[\"cible\"] = encoder.fit_transform(dfe[\"target\"])"
   ]
  },
  {
   "cell_type": "code",
   "execution_count": 227,
   "metadata": {},
   "outputs": [],
   "source": [
    "liste = dfe[\"target\"].unique()"
   ]
  },
  {
   "cell_type": "markdown",
   "metadata": {},
   "source": [
    "## Spliting des données"
   ]
  },
  {
   "cell_type": "code",
   "execution_count": 228,
   "metadata": {},
   "outputs": [],
   "source": [
    "X_train, X_test, y_train, y_test = train_test_split(dfe[\"clean_text\"], dfe[\"cible\"], train_size=0.8, random_state=1, stratify=dfe[\"target\"])\n",
    "X_train, X_val, y_train, y_val = train_test_split(X_train, y_train, train_size=0.5, stratify=y_train)"
   ]
  },
  {
   "cell_type": "markdown",
   "metadata": {},
   "source": [
    "## Vectorisation"
   ]
  },
  {
   "cell_type": "code",
   "execution_count": 229,
   "metadata": {},
   "outputs": [],
   "source": [
    "from sklearn.feature_extraction.text import CountVectorizer, TfidfVectorizer, HashingVectorizer"
   ]
  },
  {
   "cell_type": "code",
   "execution_count": 230,
   "metadata": {},
   "outputs": [
    {
     "data": {
      "text/plain": [
       "CountVectorizer()"
      ]
     },
     "execution_count": 230,
     "metadata": {},
     "output_type": "execute_result"
    }
   ],
   "source": [
    "vectorizer =CountVectorizer()\n",
    "vectorizer.fit(X_train)"
   ]
  },
  {
   "cell_type": "code",
   "execution_count": 231,
   "metadata": {},
   "outputs": [],
   "source": [
    "X_train_t = vectorizer.transform(X_train)\n",
    "X_test_t = vectorizer.transform(X_test)\n",
    "X_val_t = vectorizer.transform(X_val)"
   ]
  },
  {
   "cell_type": "markdown",
   "metadata": {},
   "source": [
    "## Neural Network"
   ]
  },
  {
   "cell_type": "code",
   "execution_count": 232,
   "metadata": {},
   "outputs": [],
   "source": [
    "model = keras.Sequential()\n",
    "\n",
    "initializer = keras.initializers.HeNormal()\n",
    "regularizer = keras.regularizers.L2(0.005)\n",
    "\n",
    "model.add(keras.layers.Dense(64, input_dim=X_train_t.shape[1], activation=\"relu\",\n",
    "                             kernel_initializer=initializer,kernel_regularizer=regularizer))\n",
    "model.add(keras.layers.AlphaDropout(20))\n",
    "model.add(keras.layers.Dense(32, input_dim=X_train_t.shape[1],kernel_regularizer=regularizer, activation=\"relu\"))\n",
    "model.add(keras.layers.AlphaDropout(20))\n",
    "model.add(keras.layers.Dense(6, activation=\"softmax\"))"
   ]
  },
  {
   "cell_type": "code",
   "execution_count": 233,
   "metadata": {},
   "outputs": [],
   "source": [
    "model.compile(\n",
    "    loss= keras.losses.SparseCategoricalCrossentropy(),\n",
    "    optimizer= keras.optimizers.Adam(learning_rate=0.001),\n",
    "    metrics=[\"accuracy\"]\n",
    ")"
   ]
  },
  {
   "cell_type": "code",
   "execution_count": 234,
   "metadata": {},
   "outputs": [
    {
     "name": "stdout",
     "output_type": "stream",
     "text": [
      "Epoch 1/100\n",
      "1073/1073 [==============================] - 12s 11ms/step - loss: 1.4977 - accuracy: 0.5925 - val_loss: 1.3196 - val_accuracy: 0.7462\n",
      "Epoch 2/100\n",
      "1073/1073 [==============================] - 11s 11ms/step - loss: 1.1936 - accuracy: 0.7983 - val_loss: 1.2223 - val_accuracy: 0.8032\n",
      "Epoch 3/100\n",
      "1073/1073 [==============================] - 11s 11ms/step - loss: 1.0575 - accuracy: 0.8442 - val_loss: 1.1549 - val_accuracy: 0.8160\n",
      "Epoch 4/100\n",
      "1073/1073 [==============================] - 11s 11ms/step - loss: 0.9731 - accuracy: 0.8676 - val_loss: 1.1041 - val_accuracy: 0.8196\n",
      "Epoch 5/100\n",
      "1073/1073 [==============================] - 11s 10ms/step - loss: 0.9060 - accuracy: 0.8800 - val_loss: 1.0871 - val_accuracy: 0.8301\n",
      "Epoch 6/100\n",
      "1073/1073 [==============================] - 11s 11ms/step - loss: 0.8469 - accuracy: 0.8901 - val_loss: 1.0287 - val_accuracy: 0.8341\n",
      "Epoch 7/100\n",
      "1073/1073 [==============================] - 11s 11ms/step - loss: 0.7821 - accuracy: 0.9100 - val_loss: 0.9887 - val_accuracy: 0.8273\n",
      "Epoch 8/100\n",
      "1073/1073 [==============================] - 12s 11ms/step - loss: 0.7253 - accuracy: 0.9169 - val_loss: 0.9200 - val_accuracy: 0.8462\n",
      "Epoch 9/100\n",
      "1073/1073 [==============================] - 12s 11ms/step - loss: 0.6667 - accuracy: 0.9281 - val_loss: 0.8998 - val_accuracy: 0.8406\n",
      "Epoch 10/100\n",
      "1073/1073 [==============================] - 12s 11ms/step - loss: 0.6219 - accuracy: 0.9343 - val_loss: 0.8785 - val_accuracy: 0.8418\n",
      "Epoch 11/100\n",
      "1073/1073 [==============================] - 12s 11ms/step - loss: 0.5917 - accuracy: 0.9352 - val_loss: 0.8700 - val_accuracy: 0.8370\n",
      "Epoch 12/100\n",
      "1073/1073 [==============================] - 11s 11ms/step - loss: 0.5563 - accuracy: 0.9423 - val_loss: 0.8274 - val_accuracy: 0.8425\n",
      "Epoch 13/100\n",
      "1073/1073 [==============================] - 11s 10ms/step - loss: 0.5229 - accuracy: 0.9469 - val_loss: 0.8151 - val_accuracy: 0.8427\n",
      "Epoch 14/100\n",
      "1073/1073 [==============================] - 11s 10ms/step - loss: 0.5101 - accuracy: 0.9458 - val_loss: 0.7917 - val_accuracy: 0.8474\n",
      "Epoch 15/100\n",
      "1073/1073 [==============================] - 12s 11ms/step - loss: 0.4853 - accuracy: 0.9511 - val_loss: 0.7996 - val_accuracy: 0.8471\n",
      "Epoch 16/100\n",
      "1073/1073 [==============================] - 12s 11ms/step - loss: 0.4675 - accuracy: 0.9535 - val_loss: 0.7771 - val_accuracy: 0.8447\n",
      "Epoch 17/100\n",
      "1073/1073 [==============================] - 11s 10ms/step - loss: 0.4560 - accuracy: 0.9560 - val_loss: 0.7682 - val_accuracy: 0.8500\n",
      "Epoch 18/100\n",
      "1073/1073 [==============================] - 10s 10ms/step - loss: 0.4421 - accuracy: 0.9542 - val_loss: 0.7618 - val_accuracy: 0.8447\n",
      "Epoch 19/100\n",
      "1073/1073 [==============================] - 11s 10ms/step - loss: 0.4323 - accuracy: 0.9556 - val_loss: 0.7591 - val_accuracy: 0.8429\n",
      "Epoch 20/100\n",
      "1073/1073 [==============================] - 11s 10ms/step - loss: 0.4182 - accuracy: 0.9583 - val_loss: 0.7375 - val_accuracy: 0.8497\n",
      "Epoch 21/100\n",
      "1073/1073 [==============================] - 10s 9ms/step - loss: 0.4004 - accuracy: 0.9617 - val_loss: 0.7200 - val_accuracy: 0.8545\n",
      "Epoch 22/100\n",
      "1073/1073 [==============================] - 10s 9ms/step - loss: 0.4062 - accuracy: 0.9574 - val_loss: 0.7627 - val_accuracy: 0.8408\n",
      "Epoch 23/100\n",
      "1073/1073 [==============================] - 10s 10ms/step - loss: 0.3967 - accuracy: 0.9591 - val_loss: 0.7300 - val_accuracy: 0.8503\n",
      "Epoch 24/100\n",
      "1073/1073 [==============================] - 10s 10ms/step - loss: 0.3839 - accuracy: 0.9624 - val_loss: 0.7247 - val_accuracy: 0.8488\n"
     ]
    }
   ],
   "source": [
    "history = model.fit(\n",
    "    X_train_t.toarray(),\n",
    "    y_train,\n",
    "    epochs=100,\n",
    "    callbacks=keras.callbacks.EarlyStopping(patience=3, monitor=\"val_loss\"),\n",
    "    batch_size=8,\n",
    "    validation_data=(X_val_t.toarray(), y_val)\n",
    ")"
   ]
  },
  {
   "cell_type": "code",
   "execution_count": 235,
   "metadata": {},
   "outputs": [],
   "source": [
    "from sklearn.metrics import f1_score\n",
    "import numpy as np"
   ]
  },
  {
   "cell_type": "code",
   "execution_count": 236,
   "metadata": {},
   "outputs": [
    {
     "name": "stdout",
     "output_type": "stream",
     "text": [
      "-----------------------------------------------weighted-----------------------------------------------\n",
      "Train f1_score: 0.9811063143302133\n",
      "Val f1_score: 0.8491216190389638\n",
      "-----------------------------------------------macro-----------------------------------------------\n",
      "Train f1_score: 0.9743873574500634\n",
      "Val f1_score: 0.8090466434290912\n",
      "-----------------------------------------------micro-----------------------------------------------\n",
      "Train f1_score: 0.9811232812864135\n",
      "Val f1_score: 0.8487532043812631\n"
     ]
    }
   ],
   "source": [
    "print(47*'-'+\"weighted\"+47*'-')\n",
    "print(\"Train f1_score:\", f1_score(np.argmax(model.predict(X_train_t), axis=1), y_train, average=\"weighted\"))\n",
    "print(\"Val f1_score:\", f1_score(np.argmax(model.predict(X_val_t), axis=1), y_val, average=\"weighted\"))\n",
    "print(47*'-'+\"macro\"+47*'-')\n",
    "print(\"Train f1_score:\", f1_score(np.argmax(model.predict(X_train_t), axis=1), y_train, average=\"macro\"))\n",
    "print(\"Val f1_score:\", f1_score(np.argmax(model.predict(X_val_t), axis=1), y_val, average=\"macro\"))\n",
    "print(47*'-'+\"micro\"+47*'-')\n",
    "print(\"Train f1_score:\", f1_score(np.argmax(model.predict(X_train_t), axis=1), y_train, average=\"micro\"))\n",
    "print(\"Val f1_score:\", f1_score(np.argmax(model.predict(X_val_t), axis=1), y_val, average=\"micro\"))"
   ]
  },
  {
   "cell_type": "markdown",
   "metadata": {},
   "source": [
    "## F1 score weighted par classe"
   ]
  },
  {
   "cell_type": "code",
   "execution_count": 237,
   "metadata": {},
   "outputs": [],
   "source": [
    "data_score = pd.DataFrame()\n",
    "data_score[\"y_pred\"] = np.argmax(model.predict(X_val_t),axis=1)\n",
    "data_score[\"y_true\"] = y_val.reset_index()[\"cible\"]"
   ]
  },
  {
   "cell_type": "code",
   "execution_count": 238,
   "metadata": {},
   "outputs": [],
   "source": [
    "def f1_score_classe(df,classe):\n",
    "    df_score = df[df.y_true==classe]\n",
    "    return f1_score(df_score[\"y_pred\"],df_score[\"y_true\"], average=\"weighted\")"
   ]
  },
  {
   "cell_type": "code",
   "execution_count": 239,
   "metadata": {},
   "outputs": [
    {
     "name": "stdout",
     "output_type": "stream",
     "text": [
      "Classe sadness : 0.7497544422243098\n",
      "Classe anger : 0.7533854057973406\n",
      "Classe love : 0.8547412460536069\n",
      "Classe surprise : 0.6331385881305125\n",
      "Classe fear : 0.8002884725481115\n",
      "Classe happy : 0.5079801654196117\n"
     ]
    }
   ],
   "source": [
    "for i in range(6):\n",
    "    print(f\"Classe {liste[i]} : {f1_score_classe(data_score,i)}\")"
   ]
  },
  {
   "cell_type": "code",
   "execution_count": 240,
   "metadata": {},
   "outputs": [],
   "source": [
    "predictions_test = encoder.inverse_transform(y_val)"
   ]
  },
  {
   "cell_type": "code",
   "execution_count": 241,
   "metadata": {},
   "outputs": [
    {
     "data": {
      "text/plain": [
       "array(['sadness', 'happy', 'fear', ..., 'sadness', 'happy', 'happy'],\n",
       "      dtype=object)"
      ]
     },
     "execution_count": 241,
     "metadata": {},
     "output_type": "execute_result"
    }
   ],
   "source": [
    "predictions_test"
   ]
  },
  {
   "cell_type": "code",
   "execution_count": 242,
   "metadata": {},
   "outputs": [
    {
     "data": {
      "text/plain": [
       "9800     4\n",
       "4153     2\n",
       "1117     1\n",
       "16054    4\n",
       "19678    2\n",
       "        ..\n",
       "3766     0\n",
       "586      0\n",
       "2821     4\n",
       "15910    2\n",
       "3402     2\n",
       "Name: cible, Length: 8582, dtype: int32"
      ]
     },
     "execution_count": 242,
     "metadata": {},
     "output_type": "execute_result"
    }
   ],
   "source": [
    "y_val"
   ]
  },
  {
   "cell_type": "code",
   "execution_count": null,
   "metadata": {},
   "outputs": [],
   "source": []
  }
 ],
 "metadata": {
  "interpreter": {
   "hash": "e8e72ecd218193d245fb3b010d45ad55dac7ff54b5052aa4883c6a911d9d65f6"
  },
  "kernelspec": {
   "display_name": "Python 3.9.7 ('rb_ds')",
   "language": "python",
   "name": "python3"
  },
  "language_info": {
   "codemirror_mode": {
    "name": "ipython",
    "version": 3
   },
   "file_extension": ".py",
   "mimetype": "text/x-python",
   "name": "python",
   "nbconvert_exporter": "python",
   "pygments_lexer": "ipython3",
   "version": "3.9.7"
  },
  "orig_nbformat": 4
 },
 "nbformat": 4,
 "nbformat_minor": 2
}
